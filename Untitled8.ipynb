{
  "nbformat": 4,
  "nbformat_minor": 0,
  "metadata": {
    "colab": {
      "provenance": []
    },
    "kernelspec": {
      "name": "python3",
      "display_name": "Python 3"
    },
    "language_info": {
      "name": "python"
    }
  },
  "cells": [
    {
      "cell_type": "code",
      "source": [
        "# 1: Generate a list o> R00 integers containing values between 90 to R30 and store it in the variable `int_list`.\n",
        "\n",
        "import random\n",
        "\n",
        "# Generate a list of 100 integers between 90 and 130\n",
        "int_list = [random.randint(90, 130) for _ in range(100)]\n",
        "\n",
        "# Print the generated list (optional)\n",
        "print(int_list)\n",
        "\n"
      ],
      "metadata": {
        "colab": {
          "base_uri": "https://localhost:8080/",
          "height": 0
        },
        "id": "3EottLwtMTFk",
        "outputId": "fcc74f50-2852-4076-872e-ef39d3cedef7"
      },
      "execution_count": 4,
      "outputs": [
        {
          "output_type": "stream",
          "name": "stdout",
          "text": [
            "[98, 112, 93, 127, 97, 118, 108, 125, 109, 116, 113, 98, 130, 99, 94, 125, 117, 130, 122, 97, 98, 118, 129, 101, 103, 92, 125, 104, 96, 96, 104, 119, 123, 106, 97, 106, 129, 104, 115, 120, 92, 121, 111, 101, 120, 127, 120, 101, 117, 122, 111, 128, 98, 116, 101, 99, 99, 95, 120, 116, 118, 105, 108, 102, 98, 107, 128, 92, 107, 100, 94, 119, 99, 123, 107, 118, 121, 98, 130, 113, 117, 105, 110, 101, 116, 95, 112, 90, 101, 90, 109, 130, 121, 124, 129, 108, 128, 109, 117, 105]\n"
          ]
        }
      ]
    },
    {
      "cell_type": "code",
      "source": [
        "# (i) Write a Python function to calculate the mean of a given list of numbers.\n",
        "\n",
        "# Create a function to find the median of a list of numbers.\n",
        "\n",
        "\n",
        "\n",
        "def calculate_mean(int_list):\n",
        "    \"\"\"\n",
        "    This function calculates the mean of a given list of numbers.\n",
        "\n",
        "    Parameters:\n",
        "    numbers (list): A list of numbers.\n",
        "\n",
        "    Returns:\n",
        "    float: The mean of the numbers.\n",
        "    \"\"\"\n",
        "    return sum(int_list) / len(int_list)\n",
        "\n",
        "# Example usage:\n",
        "numbers = int_list\n",
        "mean = calculate_mean(numbers)\n",
        "print(\"Mean:\", mean)\n"
      ],
      "metadata": {
        "colab": {
          "base_uri": "https://localhost:8080/",
          "height": 0
        },
        "id": "IEBd5qhHTLqE",
        "outputId": "2ad75bce-7f9e-4cf1-b2c6-1d7df684f479"
      },
      "execution_count": 13,
      "outputs": [
        {
          "output_type": "stream",
          "name": "stdout",
          "text": [
            "Mean: 111.2\n"
          ]
        }
      ]
    },
    {
      "cell_type": "code",
      "source": [
        "def calculate_median(numbers):\n",
        "    \"\"\"\n",
        "    This function finds the median of a given list of numbers.\n",
        "\n",
        "    Parameters:\n",
        "    numbers (list): A list of numbers.\n",
        "\n",
        "    Returns:\n",
        "    float: The median of the numbers.\n",
        "    \"\"\"\n",
        "    sorted_numbers = sorted(numbers)\n",
        "    n = len(sorted_numbers)\n",
        "    mid = n // 2\n",
        "\n",
        "    if n % 2 == 0:\n",
        "        # If even, median is the average of the two middle elements\n",
        "        median = (sorted_numbers[mid - 1] + sorted_numbers[mid]) / 2\n",
        "    else:\n",
        "        # If odd, median is the middle element\n",
        "        median = sorted_numbers[mid]\n",
        "\n",
        "    return median\n",
        "\n",
        "# Example usage:\n",
        "median = calculate_median(numbers)\n",
        "print(\"Median:\", median)\n"
      ],
      "metadata": {
        "colab": {
          "base_uri": "https://localhost:8080/"
        },
        "id": "ftKjfTVvT9aH",
        "outputId": "3f57131c-3fc4-4e26-b8d0-8dfdd63de43a"
      },
      "execution_count": null,
      "outputs": [
        {
          "output_type": "stream",
          "name": "stdout",
          "text": [
            "Median: 111.0\n"
          ]
        }
      ]
    },
    {
      "cell_type": "code",
      "source": [
        "# (ii) Develop a program to compute the mode of a list of integers\n",
        "from collections import Counter\n",
        "\n",
        "def calculate_mode(numbers):\n",
        "    \"\"\"\n",
        "    This function computes the mode(s) of a given list of integers.\n",
        "\n",
        "    Parameters:\n",
        "    numbers (list): A list of integers.\n",
        "\n",
        "    Returns:\n",
        "    list: A list containing the mode(s) of the numbers.\n",
        "    \"\"\"\n",
        "    # Count the occurrences of each number\n",
        "    count = Counter(numbers)\n",
        "\n",
        "    # Find the highest frequency\n",
        "    max_count = max(count.values())\n",
        "\n",
        "    # Find all numbers with the highest frequency (handling multiple modes)\n",
        "    modes = [num for num, freq in count.items() if freq == max_count]\n",
        "\n",
        "    return modes\n",
        "\n",
        "# Example usage:\n",
        "modes = calculate_mode(numbers)\n",
        "print(\"Mode(s):\", modes)\n"
      ],
      "metadata": {
        "colab": {
          "base_uri": "https://localhost:8080/"
        },
        "id": "xmfHhz4BUMGW",
        "outputId": "8a9a3193-c1d5-431d-91ce-0e2cce414055"
      },
      "execution_count": null,
      "outputs": [
        {
          "output_type": "stream",
          "name": "stdout",
          "text": [
            "Mode(s): [97, 92]\n"
          ]
        }
      ]
    },
    {
      "cell_type": "code",
      "source": [
        "# (iii): Implement a function to calculate the weighted mean of a list of values and their corresponding weights.\n",
        "\n",
        "def calculate_weighted_mean(values, weights):\n",
        "    \"\"\"\n",
        "    This function calculates the weighted mean of a list of values and their corresponding weights.\n",
        "\n",
        "    Parameters:\n",
        "    values (list): A list of numerical values.\n",
        "    weights (list): A list of weights corresponding to the values.\n",
        "\n",
        "    Returns:\n",
        "    float: The weighted mean of the values.\n",
        "    \"\"\"\n",
        "    if len(values) != len(weights):\n",
        "        raise ValueError(\"The lengths of values and weights lists must be equal.\")\n",
        "\n",
        "    weighted_sum = sum(value * weight for value, weight in zip(values, weights))\n",
        "    total_weight = sum(weights)\n",
        "\n",
        "    return weighted_sum / total_weight\n",
        "\n",
        "# Example usage:\n",
        "values = [10, 20, 30]\n",
        "weights = [0.2, 0.3, 0.5]\n",
        "weighted_mean = calculate_weighted_mean(values, weights)\n",
        "print(\"Weighted Mean:\", weighted_mean)\n"
      ],
      "metadata": {
        "id": "pTuxV6Mq3FVQ"
      },
      "execution_count": null,
      "outputs": []
    },
    {
      "cell_type": "code",
      "source": [
        "# (iv): Write a Python function to find the geometric mean of a list of positive numbers\n",
        "\n",
        "import math\n",
        "\n",
        "def geometric_mean(numbers):\n",
        "  \"\"\"\n",
        "  This function calculates the geometric mean of a list of positive numbers.\n",
        "\n",
        "  Parameters:\n",
        "  numbers (list): A list of positive numbers.\n",
        "\n",
        "  Returns:\n",
        "  float: The geometric mean of the numbers.\n",
        "  \"\"\"\n",
        "  product = 1\n",
        "  for number in numbers:\n",
        "    product *= number\n",
        "  return math.pow(product, 1 / len(numbers))\n",
        "\n",
        "# Example usage:\n",
        "\n",
        "gm = geometric_mean(numbers)\n",
        "print(\"Geometric Mean:\", gm)\n"
      ],
      "metadata": {
        "colab": {
          "base_uri": "https://localhost:8080/",
          "height": 0
        },
        "id": "a8vs6tyr5QsC",
        "outputId": "3edc7f2a-b3b3-4533-9419-9836e20f8fe6"
      },
      "execution_count": 15,
      "outputs": [
        {
          "output_type": "stream",
          "name": "stdout",
          "text": [
            "Geometric Mean: 110.54324381101227\n"
          ]
        }
      ]
    },
    {
      "cell_type": "code",
      "source": [
        "# (v): Create a program to calculate the harmonic mean of a list of values\n",
        "\n",
        "def calculate_harmonic_mean(int_list):\n",
        "    \"\"\"\n",
        "    This function calculates the harmonic mean of a list of values.\n",
        "\n",
        "    Parameters:\n",
        "    numbers (list): A list of numerical values.\n",
        "\n",
        "    Returns:\n",
        "    float: The harmonic mean of the values.\n",
        "    \"\"\"\n",
        "    if not numbers:\n",
        "        raise ValueError(\"Input list cannot be empty.\")\n",
        "\n",
        "    # Handle potential division by zero\n",
        "    if 0 in numbers:\n",
        "        return 0\n",
        "\n",
        "    reciprocals = [1 / num for num in numbers]\n",
        "    n = len(numbers)\n",
        "\n",
        "    return n / sum(reciprocals)\n",
        "\n",
        "# Example usage:\n",
        "\n",
        "harmonic_mean = calculate_harmonic_mean(int_list)\n",
        "print(\"Harmonic Mean:\", harmonic_mean)\n"
      ],
      "metadata": {
        "colab": {
          "base_uri": "https://localhost:8080/",
          "height": 0
        },
        "id": "S1fjuMOK3Rvx",
        "outputId": "fe6c375f-7ba9-4e16-a783-4788c449fb75"
      },
      "execution_count": 14,
      "outputs": [
        {
          "output_type": "stream",
          "name": "stdout",
          "text": [
            "Harmonic Mean: 109.88048141912809\n"
          ]
        }
      ]
    },
    {
      "cell_type": "code",
      "source": [
        "# (vi): Build a function to determine the midrange of a list of numbers (average of the minimum and maximum)\n",
        "\n",
        "def calculate_midrange(numbers):\n",
        "  \"\"\"\n",
        "  This function calculates the midrange of a list of numbers.\n",
        "\n",
        "  Parameters:\n",
        "  numbers (list): A list of numerical values.\n",
        "\n",
        "  Returns:\n",
        "  float: The midrange of the numbers.\n",
        "  \"\"\"\n",
        "  minimum = min(numbers)\n",
        "  maximum = max(numbers)\n",
        "  return (minimum + maximum) / 2\n",
        "\n",
        "# Example usage:\n",
        "midrange = calculate_midrange(numbers)\n",
        "print(\"Midrange:\", midrange)\n"
      ],
      "metadata": {
        "colab": {
          "base_uri": "https://localhost:8080/",
          "height": 0
        },
        "id": "DMqWso7y5eGi",
        "outputId": "f8ff9315-db65-4337-d196-ee62b614b976"
      },
      "execution_count": 16,
      "outputs": [
        {
          "output_type": "stream",
          "name": "stdout",
          "text": [
            "Midrange: 110.0\n"
          ]
        }
      ]
    },
    {
      "cell_type": "code",
      "source": [
        "# (vii):  Implement a Python program to find the trimmed mean of a list, excluding a certain percentage of\n",
        "# outliers.\n",
        "\n",
        "def trimmed_mean(numbers, percentage):\n",
        "  \"\"\"\n",
        "  This function calculates the trimmed mean of a list, excluding a certain percentage of outliers.\n",
        "\n",
        "  Parameters:\n",
        "  numbers (list): A list of numerical values.\n",
        "  percentage (float): The percentage of outliers to exclude from both ends of the sorted list (between 0 and 1).\n",
        "\n",
        "  Returns:\n",
        "  float: The trimmed mean of the numbers.\n",
        "  \"\"\"\n",
        "  if not 0 <= percentage < 1:\n",
        "    raise ValueError(\"Percentage must be between 0 and 1.\")\n",
        "\n",
        "  sorted_numbers = sorted(numbers)\n",
        "  n = len(sorted_numbers)\n",
        "  trim_count = int(n * percentage)\n",
        "\n",
        "  trimmed_numbers = sorted_numbers[trim_count:n - trim_count]\n",
        "\n",
        "  return sum(trimmed_numbers) / len(trimmed_numbers)\n",
        "\n",
        "# Example usage:\n",
        "trimmed_mean_value = trimmed_mean(numbers, 0.1)  # Exclude 10% from both ends\n",
        "print(\"Trimmed Mean:\", trimmed_mean_value)\n"
      ],
      "metadata": {
        "colab": {
          "base_uri": "https://localhost:8080/",
          "height": 0
        },
        "id": "3Wc9_vk15ylB",
        "outputId": "c2a61a2c-1f76-4c7c-c3c9-d7fe6fbfe080"
      },
      "execution_count": 17,
      "outputs": [
        {
          "output_type": "stream",
          "name": "stdout",
          "text": [
            "Trimmed Mean: 111.3125\n"
          ]
        }
      ]
    },
    {
      "cell_type": "code",
      "source": [
        "# 2: Generate a list of 500 integers containing values between 200 to 300 and store it in the variable `int_list2`.\n",
        "\n",
        "# Generate a list of 500 integers between 200 and 300\n",
        "int_list2 = [random.randint(200, 300) for _ in range(500)]\n",
        "\n",
        "# Print the generated list (optional)\n",
        "print(int_list2)\n"
      ],
      "metadata": {
        "colab": {
          "base_uri": "https://localhost:8080/",
          "height": 0
        },
        "id": "xntW46Iz6EI7",
        "outputId": "841f0812-8955-4030-ebeb-0844e8c537cc"
      },
      "execution_count": 5,
      "outputs": [
        {
          "output_type": "stream",
          "name": "stdout",
          "text": [
            "[290, 277, 260, 218, 240, 249, 292, 259, 259, 249, 298, 214, 218, 277, 291, 262, 248, 281, 290, 247, 203, 298, 287, 294, 207, 232, 229, 291, 285, 266, 296, 282, 239, 287, 260, 203, 262, 290, 241, 249, 285, 227, 242, 261, 260, 293, 272, 290, 266, 221, 265, 269, 282, 255, 292, 251, 210, 204, 224, 236, 244, 213, 222, 219, 282, 222, 214, 221, 271, 293, 296, 218, 249, 233, 278, 258, 284, 209, 286, 272, 244, 235, 237, 213, 246, 285, 206, 232, 216, 240, 235, 218, 200, 232, 260, 210, 212, 249, 254, 291, 204, 252, 275, 268, 259, 253, 263, 207, 235, 282, 225, 212, 230, 246, 237, 283, 228, 219, 279, 224, 252, 201, 268, 249, 284, 258, 293, 218, 228, 255, 266, 292, 284, 274, 260, 285, 298, 291, 218, 249, 216, 244, 289, 266, 289, 206, 276, 224, 285, 206, 266, 252, 210, 261, 200, 272, 243, 218, 279, 216, 267, 225, 226, 272, 244, 257, 277, 240, 246, 244, 270, 290, 261, 229, 252, 227, 255, 236, 234, 228, 269, 223, 234, 202, 288, 209, 299, 220, 279, 258, 224, 253, 203, 266, 272, 298, 251, 213, 271, 248, 218, 269, 235, 280, 298, 220, 263, 232, 203, 265, 274, 248, 285, 205, 291, 300, 282, 278, 214, 266, 298, 300, 225, 294, 213, 275, 260, 286, 255, 207, 222, 268, 279, 263, 233, 253, 272, 259, 285, 253, 297, 208, 256, 253, 220, 219, 296, 224, 202, 250, 238, 265, 270, 222, 281, 215, 271, 202, 217, 259, 268, 267, 272, 208, 228, 238, 234, 222, 213, 219, 250, 295, 211, 214, 245, 290, 277, 203, 213, 221, 284, 287, 271, 298, 276, 277, 293, 227, 227, 257, 214, 216, 275, 233, 296, 245, 245, 241, 231, 244, 297, 241, 299, 274, 260, 202, 242, 289, 295, 218, 226, 247, 214, 247, 234, 257, 215, 266, 240, 295, 298, 260, 227, 241, 277, 248, 282, 289, 243, 206, 250, 292, 259, 246, 265, 265, 254, 271, 256, 300, 202, 228, 203, 269, 282, 256, 223, 234, 296, 272, 211, 299, 209, 209, 248, 248, 246, 253, 288, 277, 295, 294, 250, 237, 227, 287, 270, 258, 209, 285, 222, 272, 282, 279, 288, 284, 251, 226, 288, 220, 296, 221, 263, 214, 268, 209, 233, 289, 207, 243, 248, 210, 263, 260, 211, 293, 289, 254, 237, 289, 256, 269, 239, 255, 244, 275, 281, 298, 289, 290, 208, 284, 262, 294, 242, 245, 237, 288, 238, 204, 279, 252, 293, 214, 257, 205, 286, 277, 204, 236, 289, 259, 260, 299, 295, 220, 260, 298, 260, 249, 204, 213, 200, 250, 225, 218, 209, 271, 205, 265, 292, 263, 247, 276, 229, 246, 211, 264, 291, 235, 230, 281, 289, 277, 284, 217, 222, 207, 252, 253, 253, 205, 232, 266, 259, 295, 211, 203, 241, 276, 206, 288, 235, 242, 264, 211, 289, 201, 244, 250, 296, 217, 220, 234, 287, 243, 271, 300, 208, 288]\n"
          ]
        }
      ]
    },
    {
      "cell_type": "code",
      "source": [
        "#  (i) Compare the given list of visualization for the given data:\n",
        "#  1. Frequency & Gaussian distribution\n",
        "#  2. Frequency smoothened KDE plot\n",
        "#  3. Gaussian distribution & smoothened KDE plot\n",
        "\n",
        "import seaborn as sns\n",
        "import matplotlib.pyplot as plt\n",
        "\n",
        "# Assuming 'int_list2' is the list of 500 integers\n",
        "\n",
        "# 1. Frequency & Gaussian distribution\n",
        "plt.figure(figsize=(10, 6))\n",
        "sns.histplot(int_list2, kde=True, stat='density')\n",
        "plt.title(\"Frequency & Gaussian Distribution\")\n",
        "plt.xlabel(\"Value\")\n",
        "plt.ylabel(\"Density\")\n",
        "plt.show()\n",
        "\n",
        "# 2. Frequency smoothened KDE plot\n",
        "plt.figure(figsize=(10, 6))\n",
        "sns.kdeplot(int_list2, bw_adjust=0.5, fill=True)  # Adjust bw_adjust for smoothness\n",
        "plt.title(\"Frequency Smoothened KDE Plot\")\n",
        "plt.xlabel(\"Value\")\n",
        "plt.ylabel(\"Density\")\n",
        "plt.show()\n",
        "\n",
        "# 3. Gaussian distribution & smoothened KDE plot\n",
        "from scipy import stats\n",
        "plt.figure(figsize=(10, 6))\n",
        "sns.distplot(int_list2, fit=stats.norm, kde=True, kde_kws={\"bw_adjust\": 0.5})\n",
        "plt.title(\"Gaussian Distribution & Smoothened KDE Plot\")\n",
        "plt.xlabel(\"Value\")\n",
        "plt.ylabel(\"Density\")\n",
        "plt.show()\n"
      ],
      "metadata": {
        "id": "SZFdad0h6Nre"
      },
      "execution_count": null,
      "outputs": []
    },
    {
      "cell_type": "code",
      "source": [
        "#  (ii) Write a Python function to calculate the range of a given list of numbers.\n",
        "\n",
        "def calculate_range(numbers):\n",
        "  \"\"\"\n",
        "  This function calculates the range of a given list of numbers.\n",
        "\n",
        "  Parameters:\n",
        "  numbers (list): A list of numerical values.\n",
        "\n",
        "  Returns:\n",
        "  float: The range of the numbers.\n",
        "  \"\"\"\n",
        "  minimum = min(numbers)\n",
        "  maximum = max(numbers)\n",
        "  return maximum - minimum\n",
        "\n",
        "# Example usage:\n",
        "numbers = int_list2\n",
        "data_range = calculate_range(numbers)\n",
        "print(\"Range:\", data_range)\n"
      ],
      "metadata": {
        "colab": {
          "base_uri": "https://localhost:8080/",
          "height": 0
        },
        "id": "ZPsa8IHN8Hda",
        "outputId": "5aca0825-970e-4992-d45e-ed169f015996"
      },
      "execution_count": 6,
      "outputs": [
        {
          "output_type": "stream",
          "name": "stdout",
          "text": [
            "Range: 100\n"
          ]
        }
      ]
    },
    {
      "cell_type": "code",
      "source": [
        "# (iii) Create a program to find the variance and standard deviation of a list of numbers\n",
        "\n",
        "def calculate_variance_and_std(numbers):\n",
        "  \"\"\"\n",
        "  This function calculates the variance and standard deviation of a list of numbers.\n",
        "\n",
        "  Parameters:\n",
        "  numbers (list): A list of numerical values.\n",
        "\n",
        "  Returns:\n",
        "  tuple: A tuple containing the variance and standard deviation of the numbers.\n",
        "  \"\"\"\n",
        "  mean = sum(numbers) / len(numbers)\n",
        "  variance = sum((x - mean) ** 2 for x in numbers) / len(numbers)\n",
        "  std_dev = math.sqrt(variance)\n",
        "  return variance, std_dev\n",
        "\n",
        "# Example usage:\n",
        "variance, std_dev = calculate_variance_and_std(numbers)\n",
        "print(\"Variance:\", variance)\n",
        "print(\"Standard Deviation:\", std_dev)\n"
      ],
      "metadata": {
        "colab": {
          "base_uri": "https://localhost:8080/",
          "height": 0
        },
        "id": "S93bSZ379BAo",
        "outputId": "2bf7b837-4e4b-4924-aaed-2e36b88c29dd"
      },
      "execution_count": 28,
      "outputs": [
        {
          "output_type": "stream",
          "name": "stdout",
          "text": [
            "Variance: 849.2641760000013\n",
            "Standard Deviation: 29.142137464503204\n"
          ]
        }
      ]
    },
    {
      "cell_type": "code",
      "source": [
        "#  (iv) Implement a function to compute the interquartile range (IQR) of a list of values\n",
        "\n",
        "def calculate_iqr(numbers):\n",
        "  \"\"\"\n",
        "  This function calculates the interquartile range (IQR) of a list of values.\n",
        "\n",
        "  Parameters:\n",
        "  numbers (list): A list of numerical values.\n",
        "\n",
        "  Returns:\n",
        "  float: The interquartile range (IQR) of the numbers.\n",
        "  \"\"\"\n",
        "  sorted_numbers = sorted(numbers)\n",
        "  n = len(sorted_numbers)\n",
        "  mid = n // 2\n",
        "\n",
        "  if n % 2 == 0:\n",
        "    # Even number of elements\n",
        "    lower_half = sorted_numbers[:mid]\n",
        "    upper_half = sorted_numbers[mid:]\n",
        "  else:\n",
        "    # Odd number of elements\n",
        "    lower_half = sorted_numbers[:mid]\n",
        "    upper_half = sorted_numbers[mid + 1:]\n",
        "\n",
        "  q1 = calculate_median (lower_half)\n",
        "  q3 = calculate_median (upper_half)\n",
        "\n",
        "  return q3 - q1\n",
        "\n",
        "# Example usage:\n",
        "iqr = calculate_iqr(numbers)\n",
        "print(\"Interquartile Range (IQR):\", iqr)\n"
      ],
      "metadata": {
        "id": "ncE5-BZ-91XF"
      },
      "execution_count": null,
      "outputs": []
    },
    {
      "cell_type": "code",
      "source": [
        "# (v) Build a program to calculate the coefficient of variation for a dataset\n",
        "\n",
        "def calculate_coefficient_of_variation(numbers):\n",
        "  \"\"\"\n",
        "  This function calculates the coefficient of variation for a dataset.\n",
        "\n",
        "  Parameters:\n",
        "  numbers (list): A list of numerical values.\n",
        "\n",
        "  Returns:\n",
        "  float: The coefficient of variation.\n",
        "  \"\"\"\n",
        "  mean = sum(numbers) / len(numbers)\n",
        "  std_dev = math.sqrt(sum((x - mean) ** 2 for x in numbers) / len(numbers))\n",
        "  return std_dev / mean\n",
        "\n",
        "# Example usage:\n",
        "coefficient_of_variation = calculate_coefficient_of_variation(numbers)\n",
        "print(\"Coefficient of Variation:\", coefficient_of_variation)\n"
      ],
      "metadata": {
        "colab": {
          "base_uri": "https://localhost:8080/",
          "height": 0
        },
        "id": "wZ38GoeQ9_ZD",
        "outputId": "c4142049-e5fb-4a58-a5cc-9e3baf568967"
      },
      "execution_count": 34,
      "outputs": [
        {
          "output_type": "stream",
          "name": "stdout",
          "text": [
            "Coefficient of Variation: 0.11622823359006111\n"
          ]
        }
      ]
    },
    {
      "cell_type": "code",
      "source": [
        "# (vi) Write a Python function to find the mean absolute deviation (MAD) of a list of numbers.\n",
        "\n",
        "def calculate_mad(numbers):\n",
        "  \"\"\"\n",
        "  This function calculates the mean absolute deviation (MAD) of a list of numbers.\n",
        "\n",
        "  Parameters:\n",
        "  numbers (list): A list of numerical values.\n",
        "\n",
        "  Returns:\n",
        "  float: The mean absolute deviation (MAD) of the numbers.\n",
        "  \"\"\"\n",
        "  mean = sum(numbers) / len(numbers)\n",
        "  absolute_deviations = [abs(x - mean) for x in numbers]\n",
        "  return sum(absolute_deviations) / len(absolute_deviations)\n",
        "\n",
        "# Example usage:\n",
        "mad = calculate_mad(numbers)\n",
        "print(\"Mean Absolute Deviation (MAD):\", mad)\n"
      ],
      "metadata": {
        "colab": {
          "base_uri": "https://localhost:8080/",
          "height": 0
        },
        "id": "ujEN71FC-Jhs",
        "outputId": "3a3a57f8-63a2-42e6-a9e7-ba591b2a8e49"
      },
      "execution_count": 7,
      "outputs": [
        {
          "output_type": "stream",
          "name": "stdout",
          "text": [
            "Mean Absolute Deviation (MAD): 25.320223999999993\n"
          ]
        }
      ]
    },
    {
      "cell_type": "code",
      "source": [
        "# (vii) Create a program to calculate the quartile deviation of a list of values.\n",
        "\n",
        "def calculate_quartile_deviation(numbers):\n",
        "  \"\"\"\n",
        "  This function calculates the quartile deviation of a list of values.\n",
        "\n",
        "  Parameters:\n",
        "  numbers (list): A list of numerical values.\n",
        "\n",
        "  Returns:\n",
        "  float: The quartile deviation of the numbers.\n",
        "  \"\"\"\n",
        "  sorted_numbers = sorted(numbers)\n",
        "  n = len(sorted_numbers)\n",
        "  mid = n // 2\n",
        "\n",
        "  if n % 2 == 0:\n",
        "    # Even number of elements\n",
        "    lower_half = sorted_numbers[:mid]\n",
        "    upper_half = sorted_numbers[mid:]\n",
        "  else:\n",
        "    # Odd number of elements\n",
        "    lower_half = sorted_numbers[:mid]\n",
        "    upper_half = sorted_numbers[mid + 1:]\n",
        "\n",
        "  q1 = calculate_median(lower_half)\n",
        "  q3 = calculate_median(upper_half)\n",
        "\n",
        "  return (q3 - q1) / 2\n",
        "\n",
        "# Example usage:\n",
        "quartile_deviation = calculate_quartile_deviation(numbers)\n",
        "print(\"Quartile Deviation:\", quartile_deviation)\n"
      ],
      "metadata": {
        "id": "m3L6BOERRGdR"
      },
      "execution_count": null,
      "outputs": []
    },
    {
      "cell_type": "code",
      "source": [
        "# (viii) Implement a function to find the range-based coefficient of dispersion for a dataset\n",
        "\n",
        "def calculate_range_based_coefficient_of_dispersion(numbers):\n",
        "  \"\"\"\n",
        "  This function calculates the range-based coefficient of dispersion for a dataset.\n",
        "\n",
        "  Parameters:\n",
        "  numbers (list): A list of numerical values.\n",
        "\n",
        "  Returns:\n",
        "  float: The range-based coefficient of dispersion.\n",
        "  \"\"\"\n",
        "  minimum = min(numbers)\n",
        "  maximum = max(numbers)\n",
        "  data_range = maximum - minimum\n",
        "  mean = sum(numbers) / len(numbers)\n",
        "  return data_range / (mean * 2)\n",
        "\n",
        "# Example usage:\n",
        "range_based_coefficient_of_dispersion = calculate_range_based_coefficient_of_dispersion(numbers)\n",
        "print(\"Range-Based Coefficient of Dispersion:\", range_based_coefficient_of_dispersion)\n"
      ],
      "metadata": {
        "colab": {
          "base_uri": "https://localhost:8080/",
          "height": 0
        },
        "id": "cKmjo4ABQLcM",
        "outputId": "44f296c9-93b2-4bbc-cf24-65e72fa6f972"
      },
      "execution_count": 9,
      "outputs": [
        {
          "output_type": "stream",
          "name": "stdout",
          "text": [
            "Range-Based Coefficient of Dispersion: 0.19851668334206807\n"
          ]
        }
      ]
    },
    {
      "cell_type": "code",
      "source": [
        "# 3:  Write a Python class representing a discrete random variable with methods to calculate its expected\n",
        "# value and variance.\n",
        "\n",
        "class DiscreteRandomVariable:\n",
        "  def __init__(self, values, probabilities):\n",
        "    if len(values) != len(probabilities):\n",
        "      raise ValueError(\"Lengths of values and probabilities must match.\")\n",
        "    if not math.isclose(sum(probabilities), 1.0):\n",
        "      raise ValueError(\"Probabilities must sum to 1.\")\n",
        "\n",
        "    self.values = values\n",
        "    self.probabilities = probabilities\n",
        "\n",
        "  def expected_value(self):\n",
        "    \"\"\"Calculates the expected value of the random variable.\"\"\"\n",
        "    return sum(value * prob for value, prob in zip(self.values, self.probabilities))\n",
        "\n",
        "  def variance(self):\n",
        "    \"\"\"Calculates the variance of the random variable.\"\"\"\n",
        "    expected_value = self.expected_value()\n",
        "    return sum((value - expected_value) ** 2 * prob for value, prob in zip(self.values, self.probabilities))\n"
      ],
      "metadata": {
        "id": "an19whLfQTqT"
      },
      "execution_count": 10,
      "outputs": []
    },
    {
      "cell_type": "code",
      "source": [
        "# 4:  Implement a program to simulate the rolling of a fair six-sided die and calculate the expected value and\n",
        "# variance of the outcomes.\n",
        "import math\n",
        "# Simulate rolling a fair six-sided die\n",
        "die_values = [1, 2, 3, 4, 5, 6]\n",
        "die_probabilities = [1/6] * 6  # Equal probabilities for each face\n",
        "\n",
        "# Create a DiscreteRandomVariable object\n",
        "die = DiscreteRandomVariable(die_values, die_probabilities)\n",
        "\n",
        "# Calculate and print expected value and variance\n",
        "print(\"Expected Value:\", die.expected_value())\n",
        "print(\"Variance:\", die.variance())\n"
      ],
      "metadata": {
        "colab": {
          "base_uri": "https://localhost:8080/",
          "height": 0
        },
        "id": "bvVEzAD0Qb49",
        "outputId": "a425f836-6e78-409f-bb4f-c62fb007d69a"
      },
      "execution_count": 13,
      "outputs": [
        {
          "output_type": "stream",
          "name": "stdout",
          "text": [
            "Expected Value: 3.5\n",
            "Variance: 2.9166666666666665\n"
          ]
        }
      ]
    },
    {
      "cell_type": "code",
      "source": [
        "# 5:  Create a Python function to generate random samples from a given probability distribution (e.g.,\n",
        "# binomial, Poisson) and calculate their mean and variance\n",
        "\n",
        "import numpy as np\n",
        "\n",
        "def generate_and_analyze_samples(distribution, params, sample_size=1000):\n",
        "  \"\"\"\n",
        "  Generates random samples from a given probability distribution and calculates their mean and variance.\n",
        "\n",
        "  Args:\n",
        "    distribution: The name of the probability distribution (e.g., 'binomial', 'poisson').\n",
        "    params: A dictionary of parameters for the distribution (e.g., {'n': 10, 'p': 0.5} for binomial).\n",
        "    sample_size: The number of random samples to generate.\n",
        "\n",
        "  Returns:\n",
        "    tuple: A tuple containing the mean and variance of the generated samples.\n",
        "  \"\"\"\n",
        "\n",
        "  if distribution == 'binomial':\n",
        "    samples = np.random.binomial(**params, size=sample_size)\n",
        "  elif distribution == 'poisson':\n",
        "    samples = np.random.poisson(**params, size=sample_size)\n",
        "  # Add more distributions as needed\n",
        "  else:\n",
        "    raise ValueError(\"Unsupported distribution.\")\n",
        "\n",
        "  mean = np.mean(samples)\n",
        "  variance = np.var(samples)\n",
        "\n",
        "  return mean, variance\n",
        "\n",
        "# Example usage:\n",
        "# Binomial distribution\n",
        "binomial_params = {'n': 10, 'p': 0.5}\n",
        "binomial_mean, binomial_variance = generate_and_analyze_samples('binomial', binomial_params)\n",
        "print(\"Binomial Mean:\", binomial_mean)\n",
        "print(\"Binomial Variance:\", binomial_variance)\n",
        "\n",
        "# Poisson distribution\n",
        "poisson_params = {'lam': 5}\n",
        "poisson_mean, poisson_variance = generate_and_analyze_samples('poisson', poisson_params)\n",
        "print(\"Poisson Mean:\", poisson_mean)\n",
        "print(\"Poisson Variance:\", poisson_variance)\n"
      ],
      "metadata": {
        "colab": {
          "base_uri": "https://localhost:8080/",
          "height": 0
        },
        "id": "WAxpQ40CQub7",
        "outputId": "1e6ec136-5d8c-4a66-8cb0-941fc769bbd8"
      },
      "execution_count": 14,
      "outputs": [
        {
          "output_type": "stream",
          "name": "stdout",
          "text": [
            "Binomial Mean: 5.021\n",
            "Binomial Variance: 2.622559\n",
            "Poisson Mean: 4.962\n",
            "Poisson Variance: 5.220556\n"
          ]
        }
      ]
    },
    {
      "cell_type": "code",
      "source": [
        "# 6:  Write a Python script to generate random numbers from a Gaussian (normal) distribution and compute\n",
        "# the mean, variance, and standard deviation of the samples.\n",
        "\n",
        "# Generate random numbers from a Gaussian distribution\n",
        "mu = 0  # Mean\n",
        "sigma = 1  # Standard deviation\n",
        "num_samples = 1000\n",
        "samples = np.random.normal(mu, sigma, num_samples)\n",
        "\n",
        "# Calculate mean, variance, and standard deviation\n",
        "sample_mean = np.mean(samples)\n",
        "sample_variance = np.var(samples)\n",
        "sample_std = np.std(samples)\n",
        "\n",
        "print(\"Sample Mean:\", sample_mean)\n",
        "print(\"Sample Variance:\", sample_variance)\n",
        "print(\"Sample Standard Deviation:\", sample_std)\n"
      ],
      "metadata": {
        "colab": {
          "base_uri": "https://localhost:8080/",
          "height": 0
        },
        "id": "s1QT912BQ_ZX",
        "outputId": "268949f9-9b06-4660-d8c2-10ef477d72c6"
      },
      "execution_count": 15,
      "outputs": [
        {
          "output_type": "stream",
          "name": "stdout",
          "text": [
            "Sample Mean: -0.017280424183726918\n",
            "Sample Variance: 1.0013869709837793\n",
            "Sample Standard Deviation: 1.0006932451974377\n"
          ]
        }
      ]
    },
    {
      "cell_type": "code",
      "source": [
        "# 7:  Use seaborn library to load `tips` dataset. Find the following from the dataset for the columns `total_bill`\n",
        "# and `tip`:\n",
        "#  (i) Write a Python function that calculates their skewness.\n",
        "#  approximately symmetric.\n",
        "#  (ii) Create a program that determines whether the columns exhibit positive skewness, negative skewness, or is\n",
        "# (iii) Write a function that calculates the covariance between two columns.\n",
        "\n",
        "import seaborn as sns\n",
        "\n",
        "# Load the 'tips' dataset\n",
        "tips = sns.load_dataset('tips')\n",
        "\n",
        "# (i) Calculate skewness\n",
        "def calculate_skewness(data):\n",
        "  \"\"\"\n",
        "  Calculates the skewness of a given dataset.\n",
        "\n",
        "  Parameters:\n",
        "  data (pandas.Series): A pandas Series containing the data.\n",
        "\n",
        "  Returns:\n",
        "  float: The skewness of the data.\n",
        "  \"\"\"\n",
        "  return data.skew()\n",
        "\n",
        "# Calculate skewness for 'total_bill' and 'tip'\n",
        "total_bill_skewness = calculate_skewness(tips['total_bill'])\n",
        "tip_skewness = calculate_skewness(tips['tip'])\n",
        "\n",
        "print(\"Skewness of 'total_bill':\", total_bill_skewness)\n",
        "print(\"Skewness of 'tip':\", tip_skewness)\n",
        "\n",
        "# (ii) Determine skewness type\n",
        "def determine_skewness_type(skewness):\n",
        "  \"\"\"\n",
        "  Determines the type of skewness based on the skewness value.\n",
        "\n",
        "  Parameters:\n",
        "  skewness (float): The skewness value.\n",
        "\n",
        "  Returns:\n",
        "  str: A string indicating the type of skewness ('Positive', 'Negative', or 'Approximately Symmetric').\n",
        "  \"\"\"\n",
        "  if skewness > 0:\n",
        "    return 'Positive'\n",
        "  elif skewness < 0:\n",
        "    return 'Negative'\n",
        "  else:\n",
        "    return 'Approximately Symmetric'\n",
        "\n",
        "# Determine skewness type for 'total_bill' and 'tip'\n",
        "total_bill_skewness_type = determine_skewness_type(total_bill_skewness)\n",
        "tip_skewness_type = determine_skewness_type(tip_skewness)\n",
        "\n",
        "print(\"Skewness type of 'total_bill':\", total_bill_skewness_type)\n",
        "print(\"Skewness type of 'tip':\", tip_skewness_type)\n",
        "\n",
        "# (iii) Calculate covariance\n",
        "def calculate_covariance(data1, data2):\n",
        "  \"\"\"\n",
        "  Calculates the covariance between two columns.\n",
        "\n",
        "  Parameters:\n",
        "  data1 (pandas.Series): A pandas Series containing the first column data.\n",
        "  data2 (pandas.Series): A pandas Series containing the second column data.\n",
        "\n",
        "  Returns:\n",
        "  float: The covariance between the two columns.\n",
        "  \"\"\"\n",
        "  return data1.cov(data2)\n",
        "\n",
        "# Calculate covariance between 'total_bill' and 'tip'\n",
        "covariance = calculate_covariance(tips['total_bill'], tips['tip'])\n",
        "print(\"Covariance between 'total_bill' and 'tip':\", covariance)\n",
        "\n",
        "# (iv) Implement a Python program that calculates the Pearson correlation coefficient between two columns\n",
        "\n",
        "# Function to calculate Pearson correlation coefficient between two columns\n",
        "def calculate_pearson_correlation(data, column1, column2):\n",
        "    return data[[column1, column2]].corr().iloc[0, 1]\n",
        "\n",
        "# Calculate Pearson correlation between 'total_bill' and 'tip'\n",
        "pearson_corr_total_bill_tip = calculate_pearson_correlation(tips, 'total_bill', 'tip')\n",
        "\n",
        "print(f\"Pearson correlation coefficient between total_bill and tip: {pearson_corr_total_bill_tip}\")\n",
        "\n",
        "# (v) Write a script to visualize the correlation between two specific columns in a Pandas DataFrame using scatter plots\n",
        "\n",
        "import matplotlib.pyplot as plt\n",
        "import seaborn as sns\n",
        "\n",
        "# Function to visualize correlation using scatter plot\n",
        "def plot_correlation_scatter(data, column1, column2):\n",
        "    plt.figure(figsize=(8, 6))\n",
        "    sns.scatterplot(x=column1, y=column2, data=data)\n",
        "    plt.title(f\"Scatter Plot between {column1} and {column2}\")\n",
        "    plt.xlabel(column1)\n",
        "    plt.ylabel(column2)\n",
        "    plt.show()\n",
        "\n",
        "# Visualize the correlation between 'total_bill' and 'tip'\n",
        "plot_correlation_scatter(tips, 'total_bill', 'tip')\n",
        "\n"
      ],
      "metadata": {
        "colab": {
          "base_uri": "https://localhost:8080/",
          "height": 668
        },
        "id": "pSM_-tSHRRX1",
        "outputId": "e18a3bff-2d8e-49dd-8a25-9ab1cfeb71b2"
      },
      "execution_count": 17,
      "outputs": [
        {
          "output_type": "stream",
          "name": "stdout",
          "text": [
            "Skewness of 'total_bill': 1.1332130376158205\n",
            "Skewness of 'tip': 1.4654510370979401\n",
            "Skewness type of 'total_bill': Positive\n",
            "Skewness type of 'tip': Positive\n",
            "Covariance between 'total_bill' and 'tip': 8.323501629224854\n",
            "Pearson correlation coefficient between total_bill and tip: 0.6757341092113648\n"
          ]
        },
        {
          "output_type": "display_data",
          "data": {
            "text/plain": [
              "<Figure size 800x600 with 1 Axes>"
            ],
            "image/png": "[encoded data removed]"
          },
          "metadata": {}
        }
      ]
    },
    {
      "cell_type": "code",
      "source": [
        "# 8:  Write a Python function to calculate the probability density function (PDF) of a continuous random\n",
        "# variable for a given normal distribution\n",
        "\n",
        "from scipy.stats import norm\n",
        "\n",
        "def calculate_normal_pdf(x, mu, sigma):\n",
        "  \"\"\"\n",
        "  Calculates the probability density function (PDF) of a normal distribution.\n",
        "\n",
        "  Parameters:\n",
        "  x (float or array-like): The value(s) at which to evaluate the PDF.\n",
        "  mu (float): The mean of the normal distribution.\n",
        "  sigma (float): The standard deviation of the normal distribution.\n",
        "\n",
        "  Returns:\n",
        "  float or array-like: The PDF value(s) at the given x.\n",
        "  \"\"\"\n",
        "  return norm.pdf(x, loc=mu, scale=sigma)\n"
      ],
      "metadata": {
        "id": "GN2sxDycSifQ"
      },
      "execution_count": 19,
      "outputs": []
    },
    {
      "cell_type": "code",
      "source": [
        "# 9:  Create a program to calculate the cumulative distribution function (CDF) of exponential distribution.\n",
        "\n",
        "from scipy.stats import expon\n",
        "\n",
        "def calculate_exponential_cdf(x, lambda_):\n",
        "  \"\"\"\n",
        "  Calculates the cumulative distribution function (CDF) of exponential distribution.\n",
        "\n",
        "  Parameters:\n",
        "    x (float or array-like): The value(s) at which to evaluate the CDF.\n",
        "    lambda_ (float): The rate parameter of the exponential distribution.\n",
        "\n",
        "  Returns:\n",
        "    float or array-like: The CDF value(s) at the given x.\n",
        "  \"\"\"\n",
        "  return expon.cdf(x, scale=1/lambda_)\n"
      ],
      "metadata": {
        "id": "BVLmg9pWSkd_"
      },
      "execution_count": 20,
      "outputs": []
    },
    {
      "cell_type": "code",
      "source": [
        "# 10:  Write a Python function to calculate the probability mass function (PMF) of Poisson distribution\n",
        "\n",
        "from scipy.stats import poisson\n",
        "\n",
        "def calculate_poisson_pmf(k, mu):\n",
        "  \"\"\"\n",
        "  Calculates the probability mass function (PMF) of Poisson distribution.\n",
        "\n",
        "  Parameters:\n",
        "  k (int or array-like): The number of events for which to calculate the probability.\n",
        "  mu (float): The average number of events (lambda) in the given time interval.\n",
        "\n",
        "  Returns:\n",
        "  float or array-like: The PMF value(s) for the given k.\n",
        "  \"\"\"\n",
        "  return poisson.pmf(k, mu)\n"
      ],
      "metadata": {
        "id": "cSfv6t6fSrGd"
      },
      "execution_count": 21,
      "outputs": []
    },
    {
      "cell_type": "code",
      "source": [
        "# 11: A company wants to test if a new website layout leads to a higher conversion rate (percentage of visitors\n",
        "# who make a purchase). They collect data from the old and new layouts to compare.\n",
        " # To generate the data use the following command:\n",
        " #```python\n",
        "# import numpy as np\n",
        " # 50 purchases out of 1000 visitors\n",
        " #old_layout = np.array([1] * 50 + [0] * 950)\n",
        " # 70 purchases out of 1000 visitors\n",
        "# new_layout = np.array([1] * 70 + [0] * 930)\n",
        " ```\n",
        "# Apply z-test to find which layout is successful\n",
        "\n",
        "import numpy as np\n",
        "from statsmodels.stats.proportion import proportions_ztest\n",
        "\n",
        "# Data generation\n",
        "old_layout = np.array([1] * 50 + [0] * 950)\n",
        "new_layout = np.array([1] * 70 + [0] * 930)\n",
        "\n",
        "# Number of successes (purchases) and total number of trials (visitors)\n",
        "successes = np.array([old_layout.sum(), new_layout.sum()])\n",
        "n_trials = np.array([len(old_layout), len(new_layout)])\n",
        "\n",
        "# Perform z-test for proportions\n",
        "z_stat, p_value = proportions_ztest(successes, n_trials, alternative='larger')\n",
        "\n",
        "# Output results\n",
        "print(f\"Z-statistic: {z_stat}\")\n",
        "print(f\"P-value: {p_value}\")\n",
        "\n",
        "# Interpretation\n",
        "alpha = 0.05\n",
        "if p_value < alpha:\n",
        "    print(\"Reject the null hypothesis: The new layout leads to a higher conversion rate.\")\n",
        "else:\n",
        "    print(\"Fail to reject the null hypothesis: No significant difference in conversion rates between layouts.\")\n"
      ],
      "metadata": {
        "colab": {
          "base_uri": "https://localhost:8080/",
          "height": 0
        },
        "id": "Jb-VKztwS01q",
        "outputId": "51998b53-69a6-450b-c5cf-187e8d8c61f9"
      },
      "execution_count": 22,
      "outputs": [
        {
          "output_type": "stream",
          "name": "stdout",
          "text": [
            "Z-statistic: -1.883108942886774\n",
            "P-value: 0.9701571972337869\n",
            "Fail to reject the null hypothesis: No significant difference in conversion rates between layouts.\n"
          ]
        }
      ]
    },
    {
      "cell_type": "code",
      "source": [
        "#12: A tutoring service claims that its program improves students' exam scores. A sample of students who\n",
        "#participated in the program was taken, and their scores before and after the program were recorded.\n",
        "# Use the below code to generate samples of respective arrays of marks:\n",
        "# ```python\n",
        "# before_program = np.array([75, 80, 85, 70, 90, 78, 92, 88, 82, 87])\n",
        "# after_program = np.array([80, 85, 90, 80, 92, 80, 95, 90, 85, 88])\n",
        "# ```\n",
        "# Use z-test to find if the claims made by tutor are true or false\n",
        "\n",
        "import numpy as np\n",
        "from scipy import stats\n",
        "\n",
        "# Sample data\n",
        "before_program = np.array([75, 80, 85, 70, 90, 78, 92, 88, 82, 87])\n",
        "after_program = np.array([80, 85, 90, 80, 92, 80, 95, 90, 85, 88])\n",
        "\n",
        "# Calculate the differences between after and before scores\n",
        "differences = after_program - before_program\n",
        "\n",
        "# Calculate the mean and standard deviation of the differences\n",
        "mean_diff = np.mean(differences)\n",
        "std_diff = np.std(differences, ddof=1)  # Use ddof=1 for sample standard deviation\n",
        "n = len(differences)\n",
        "\n",
        "# Perform the z-test\n",
        "z_stat = mean_diff / (std_diff / np.sqrt(n))\n",
        "p_value = 1 - stats.norm.cdf(z_stat)  # One-tailed test\n",
        "\n",
        "# Output results\n",
        "print(f\"Z-statistic: {z_stat}\")\n",
        "print(f\"P-value: {p_value}\")\n",
        "\n",
        "# Interpretation\n",
        "alpha = 0.05\n",
        "if p_value < alpha:\n",
        "    print(\"Reject the null hypothesis: The program improves students' exam scores.\")\n",
        "else:\n",
        "    print(\"Fail to reject the null hypothesis: No significant improvement in students' exam scores.\")\n"
      ],
      "metadata": {
        "colab": {
          "base_uri": "https://localhost:8080/",
          "height": 0
        },
        "id": "57SK9sDXTbmq",
        "outputId": "c1f1fcdc-7a53-4bc2-ccd6-1061b7acdfce"
      },
      "execution_count": 23,
      "outputs": [
        {
          "output_type": "stream",
          "name": "stdout",
          "text": [
            "Z-statistic: 4.593190894944668\n",
            "P-value: 2.182597052646784e-06\n",
            "Reject the null hypothesis: The program improves students' exam scores.\n"
          ]
        }
      ]
    },
    {
      "cell_type": "code",
      "source": [
        "# 13: A pharmaceutical company wants to determine if a new drug is effective in reducing blood pressure. They\n",
        "#conduct a study and record blood pressure measurements before and after administering the drug.\n",
        " #Use the below code to generate samples of respective arrays of blood pressure:\n",
        " #``python\n",
        " #before_drug = np.array([145, 150, 140, 135, 155, 160, 152, 148, 130, 138])\n",
        "# after_drug = np.array([130, 140, 132, 128, 145, 148, 138, 136, 125, 130])\n",
        "# ```\n",
        "# Implement z-test to find if the drug really works or not\n",
        "\n",
        "import numpy as np\n",
        "from scipy import stats\n",
        "\n",
        "# Sample data\n",
        "before_drug = np.array([145, 150, 140, 135, 155, 160, 152, 148, 130, 138])\n",
        "after_drug = np.array([130, 140, 132, 128, 145, 148, 138, 136, 125, 130])\n",
        "\n",
        "# Calculate the differences between before and after blood pressure\n",
        "differences = after_drug - before_drug\n",
        "\n",
        "# Calculate the mean and standard deviation of the differences\n",
        "mean_diff = np.mean(differences)\n",
        "std_diff = np.std(differences, ddof=1)  # Use ddof=1 for sample standard deviation\n",
        "n = len(differences)\n",
        "\n",
        "# Perform the z-test\n",
        "z_stat = mean_diff / (std_diff / np.sqrt(n))\n",
        "p_value = stats.norm.cdf(z_stat)  # One-tailed test for reduction in blood pressure\n",
        "\n",
        "# Output results\n",
        "print(f\"Z-statistic: {z_stat}\")\n",
        "print(f\"P-value: {p_value}\")\n",
        "\n",
        "# Interpretation\n",
        "alpha = 0.05\n",
        "if p_value < alpha:\n",
        "    print(\"Reject the null hypothesis: The drug is effective in reducing blood pressure.\")\n",
        "else:\n",
        "    print(\"Fail to reject the null hypothesis: No significant reduction in blood pressure.\")\n"
      ],
      "metadata": {
        "colab": {
          "base_uri": "https://localhost:8080/",
          "height": 0
        },
        "id": "Lb2WmKl9TudJ",
        "outputId": "86fb8318-e16c-4603-9018-6f3c781ada00"
      },
      "execution_count": 29,
      "outputs": [
        {
          "output_type": "stream",
          "name": "stdout",
          "text": [
            "Z-statistic: -10.049875621120888\n",
            "P-value: 4.599172203850193e-24\n",
            "Reject the null hypothesis: The drug is effective in reducing blood pressure.\n"
          ]
        }
      ]
    },
    {
      "cell_type": "code",
      "source": [
        "# 14:  A customer service department claims that their average response time is less than 5 minutes. A sample\n",
        "#of recent customer interactions was taken, and the response times were recorded.\n",
        "# Implement the below code to generate the array of response time:\n",
        "# ```python\n",
        "# response_times = np.array([4.3, 3.8, 5.1, 4.9, 4.7, 4.2, 5.2, 4.5, 4.6, 4.4])\n",
        "# ```\n",
        "# Implement z-test to find the claims made by customer service department are true or false\n",
        "\n",
        "import numpy as np\n",
        "from scipy import stats\n",
        "\n",
        "# Sample data\n",
        "response_times = np.array([4.3, 3.8, 5.1, 4.9, 4.7, 4.2, 5.2, 4.5, 4.6, 4.4])\n",
        "\n",
        "# Population mean to compare against\n",
        "population_mean = 5  # Claimed mean response time\n",
        "\n",
        "# Sample mean and standard deviation\n",
        "sample_mean = np.mean(response_times)\n",
        "sample_std = np.std(response_times, ddof=1)  # Use ddof=1 for sample standard deviation\n",
        "n = len(response_times)\n",
        "\n",
        "# Perform the z-test\n",
        "z_stat = (sample_mean - population_mean) / (sample_std / np.sqrt(n))\n",
        "p_value = stats.norm.cdf(z_stat)  # One-tailed test for mean less than 5 minutes\n",
        "\n",
        "# Output results\n",
        "print(f\"Z-statistic: {z_stat}\")\n",
        "print(f\"P-value: {p_value}\")\n",
        "\n",
        "# Interpretation\n",
        "alpha = 0.05\n",
        "if p_value < alpha:\n",
        "    print(\"Reject the null hypothesis: The customer service department's claim is true.\")\n",
        "else:\n",
        "    print(\"Fail to reject the null hypothesis: The customer service department's claim is not supported by the data.\")\n"
      ],
      "metadata": {
        "colab": {
          "base_uri": "https://localhost:8080/",
          "height": 0
        },
        "id": "CumvkECTVJQe",
        "outputId": "aa8a7f4e-8c9d-4945-b3b6-1bf6f0d07b20"
      },
      "execution_count": 30,
      "outputs": [
        {
          "output_type": "stream",
          "name": "stdout",
          "text": [
            "Z-statistic: -3.184457226042963\n",
            "P-value: 0.0007251287113068958\n",
            "Reject the null hypothesis: The customer service department's claim is true.\n"
          ]
        }
      ]
    },
    {
      "cell_type": "code",
      "source": [
        "# 15: A company is testing two different website layouts to see which one leads to higher click-through rates.\n",
        "#Write a Python function to perform an A/B test analysis, including calculating the t-statistic, degrees of\n",
        "#freedom, and p-value.\n",
        "# Use the following data:\n",
        "# ```python\n",
        "# layout_a_clicks = [28, 32, 33, 29, 31, 34, 30, 35, 36, 37]\n",
        "# layout_b_clicks = [40, 41, 38, 42, 39, 44, 43, 41, 45, 47]\n",
        "\n",
        "import numpy as np\n",
        "from scipy import stats\n",
        "\n",
        "def ab_test(layout_a_clicks, layout_b_clicks):\n",
        "    # Convert data to numpy arrays\n",
        "    layout_a = np.array(layout_a_clicks)\n",
        "    layout_b = np.array(layout_b_clicks)\n",
        "\n",
        "    # Calculate means and standard deviations\n",
        "    mean_a = np.mean(layout_a)\n",
        "    mean_b = np.mean(layout_b)\n",
        "    std_a = np.std(layout_a, ddof=1)  # Sample standard deviation\n",
        "    std_b = np.std(layout_b, ddof=1)  # Sample standard deviation\n",
        "\n",
        "    # Number of observations\n",
        "    n_a = len(layout_a)\n",
        "    n_b = len(layout_b)\n",
        "\n",
        "    # Calculate t-statistic\n",
        "    t_stat = (mean_a - mean_b) / np.sqrt((std_a**2 / n_a) + (std_b**2 / n_b))\n",
        "\n",
        "    # Degrees of freedom using Welch-Satterthwaite equation\n",
        "    df = (((std_a**2 / n_a) + (std_b**2 / n_b))**2) / \\\n",
        "         (((std_a**2 / n_a)**2 / (n_a - 1)) + ((std_b**2 / n_b)**2 / (n_b - 1)))\n",
        "\n",
        "    # Two-tailed p-value\n",
        "    p_value = stats.t.sf(np.abs(t_stat), df) * 2  # sf is the survival function (1-CDF)\n",
        "\n",
        "    # Print results\n",
        "    print(f\"T-statistic: {t_stat}\")\n",
        "    print(f\"Degrees of Freedom: {df}\")\n",
        "    print(f\"P-value: {p_value}\")\n",
        "\n",
        "    # Interpretation\n",
        "    alpha = 0.05\n",
        "    if p_value < alpha:\n",
        "        print(\"Reject the null hypothesis: There is a significant difference between the two layouts.\")\n",
        "    else:\n",
        "        print(\"Fail to reject the null hypothesis: No significant difference between the two layouts.\")\n",
        "\n",
        "# Given data\n",
        "layout_a_clicks = [28, 32, 33, 29, 31, 34, 30, 35, 36, 37]\n",
        "layout_b_clicks = [40, 41, 38, 42, 39, 44, 43, 41, 45, 47]\n",
        "\n",
        "# Perform A/B test\n",
        "ab_test(layout_a_clicks, layout_b_clicks)\n"
      ],
      "metadata": {
        "colab": {
          "base_uri": "https://localhost:8080/",
          "height": 0
        },
        "id": "ttVYhpqUVgmu",
        "outputId": "41f7957e-bfde-4cc1-f241-1b1f871ab687"
      },
      "execution_count": 31,
      "outputs": [
        {
          "output_type": "stream",
          "name": "stdout",
          "text": [
            "T-statistic: -7.298102156175071\n",
            "Degrees of Freedom: 17.879871863320876\n",
            "P-value: 9.196596070789357e-07\n",
            "Reject the null hypothesis: There is a significant difference between the two layouts.\n"
          ]
        }
      ]
    },
    {
      "cell_type": "code",
      "source": [
        "# 16:  A pharmaceutical company wants to determine if a new drug is more effective than an existing drug in\n",
        "#reducing cholesterol levels. Create a program to analyze the clinical trial data and calculate the t\n",
        "#Use the following data of cholestrol level:\n",
        "# ```python\n",
        "# existing_drug_levels = [180, 182, 175, 185, 178, 176, 172, 184, 179, 183]\n",
        "# new_drug_levels = [170, 172, 165, 168, 175, 173, 170, 178, 172, 176]\n",
        "# ``\n",
        "\n",
        "import numpy as np\n",
        "from scipy import stats\n",
        "\n",
        "def compare_drug_effectiveness(existing_drug_levels, new_drug_levels):\n",
        "    # Convert data to numpy arrays\n",
        "    existing = np.array(existing_drug_levels)\n",
        "    new = np.array(new_drug_levels)\n",
        "\n",
        "    # Calculate means and standard deviations\n",
        "    mean_existing = np.mean(existing)\n",
        "    mean_new = np.mean(new)\n",
        "    std_existing = np.std(existing, ddof=1)  # Sample standard deviation\n",
        "    std_new = np.std(new, ddof=1)  # Sample standard deviation\n",
        "\n",
        "    # Number of observations\n",
        "    n_existing = len(existing)\n",
        "    n_new = len(new)\n",
        "\n",
        "    # Calculate t-statistic\n",
        "    t_stat = (mean_existing - mean_new) / np.sqrt((std_existing**2 / n_existing) + (std_new**2 / n_new))\n",
        "\n",
        "    # Degrees of freedom using Welch-Satterthwaite equation\n",
        "    df = (((std_existing**2 / n_existing) + (std_new**2 / n_new))**2) / \\\n",
        "         (((std_existing**2 / n_existing)**2 / (n_existing - 1)) + ((std_new**2 / n_new)**2 / (n_new - 1)))\n",
        "\n",
        "    # One-tailed p-value (since we are testing if the new drug is more effective, i.e., less cholesterol level)\n",
        "    p_value = stats.t.sf(t_stat, df)  # sf is the survival function (1-CDF)\n",
        "\n",
        "    # Print results\n",
        "    print(f\"T-statistic: {t_stat}\")\n",
        "    print(f\"Degrees of Freedom: {df}\")\n",
        "    print(f\"P-value: {p_value}\")\n",
        "\n",
        "    # Interpretation\n",
        "    alpha = 0.05\n",
        "    if p_value < alpha:\n",
        "        print(\"Reject the null hypothesis: The new drug is more effective in reducing cholesterol levels.\")\n",
        "    else:\n",
        "        print(\"Fail to reject the null hypothesis: No significant difference between the new and existing drugs.\")\n",
        "\n",
        "# Given data\n",
        "existing_drug_levels = [180, 182, 175, 185, 178, 176, 172, 184, 179, 183]\n",
        "new_drug_levels = [170, 172, 165, 168, 175, 173, 170, 178, 172, 176]\n",
        "\n",
        "# Perform the comparison\n",
        "compare_drug_effectiveness(existing_drug_levels, new_drug_levels)\n"
      ],
      "metadata": {
        "colab": {
          "base_uri": "https://localhost:8080/",
          "height": 0
        },
        "id": "esZ7oNR3WBIl",
        "outputId": "b1aed894-09f3-4a0a-92ce-91c7b822e9c4"
      },
      "execution_count": 32,
      "outputs": [
        {
          "output_type": "stream",
          "name": "stdout",
          "text": [
            "T-statistic: 4.140480986208661\n",
            "Degrees of Freedom: 17.866770765582338\n",
            "P-value: 0.00031146144727346535\n",
            "Reject the null hypothesis: The new drug is more effective in reducing cholesterol levels.\n"
          ]
        }
      ]
    },
    {
      "cell_type": "code",
      "source": [
        "# 17:  A school district introduces an educational intervention program to improve math scores. Write a Python\n",
        "#function to analyze pre- and post-intervention test scores, calculating the t-statistic and p-value to\n",
        "#determine if the intervention had a significant impact.\n",
        "# Use the following data of test score:\n",
        "# ```python\n",
        "# pre_intervention_scores = [80, 85, 90, 75, 88, 82, 92, 78, 85, 87]\n",
        "# post_intervention_scores = [90, 92, 88, 92, 95, 91, 96, 93, 89, 93]\n",
        "# ```\n",
        "import numpy as np\n",
        "from scipy import stats\n",
        "\n",
        "def analyze_intervention_impact(pre_scores, post_scores):\n",
        "    # Convert data to numpy arrays\n",
        "    pre = np.array(pre_scores)\n",
        "    post = np.array(post_scores)\n",
        "\n",
        "    # Ensure both arrays are of the same length\n",
        "    if len(pre) != len(post):\n",
        "        raise ValueError(\"Both arrays must have the same length.\")\n",
        "\n",
        "    # Calculate the differences\n",
        "    differences = post - pre\n",
        "\n",
        "    # Calculate t-statistic and p-value for the paired t-test\n",
        "    t_stat, p_value = stats.ttest_rel(post, pre)\n",
        "\n",
        "    # Print results\n",
        "    print(f\"T-statistic: {t_stat}\")\n",
        "    print(f\"P-value: {p_value}\")\n",
        "\n",
        "    # Interpretation\n",
        "    alpha = 0.05\n",
        "    if p_value < alpha:\n",
        "        print(\"Reject the null hypothesis: The intervention had a significant impact on test scores.\")\n",
        "    else:\n",
        "        print(\"Fail to reject the null hypothesis: No significant impact of the intervention on test scores.\")\n",
        "\n",
        "# Given data\n",
        "pre_intervention_scores = [80, 85, 90, 75, 88, 82, 92, 78, 85, 87]\n",
        "post_intervention_scores = [90, 92, 88, 92, 95, 91, 96, 93, 89, 93]\n",
        "\n",
        "# Analyze the intervention impact\n",
        "analyze_intervention_impact(pre_intervention_scores, post_intervention_scores)\n",
        "\n"
      ],
      "metadata": {
        "colab": {
          "base_uri": "https://localhost:8080/",
          "height": 0
        },
        "id": "ZgifyR95W9dk",
        "outputId": "12b52a5b-d51a-4c6f-fda0-156856501228"
      },
      "execution_count": 34,
      "outputs": [
        {
          "output_type": "stream",
          "name": "stdout",
          "text": [
            "T-statistic: 4.42840883965761\n",
            "P-value: 0.0016509548165795493\n",
            "Reject the null hypothesis: The intervention had a significant impact on test scores.\n"
          ]
        }
      ]
    },
    {
      "cell_type": "code",
      "source": [
        "# 18:  An HR department wants to investigate if there's a gender-based salary gap within the company. Develop\n",
        "# program to analyze salary data, calculate the t-statistic, and determine if there's a statistically\n",
        "#significant difference between the average salaries of male and female employees.\n",
        "# Use the below code to generate synthetic data:\n",
        "# ```python\n",
        " # Generate synthetic salary data for male and female employees\n",
        "# np.random.seed(0)  # For reproducibility\n",
        "# male_salaries = np.random.normal(loc=50000, scale=10000, size=20)\n",
        "# female_salaries = np.random.normal(loc=55000, scale=9000, size=20)\n",
        "# ```\n",
        "\n",
        "import numpy as np\n",
        "from scipy import stats\n",
        "\n",
        "def analyze_salary_gap(male_salaries, female_salaries):\n",
        "    # Convert data to numpy arrays\n",
        "    male = np.array(male_salaries)\n",
        "    female = np.array(female_salaries)\n",
        "\n",
        "    # Perform independent two-sample t-test\n",
        "    t_stat, p_value = stats.ttest_ind(male, female)\n",
        "\n",
        "    # Print results\n",
        "    print(f\"T-statistic: {t_stat}\")\n",
        "    print(f\"P-value: {p_value}\")\n",
        "\n",
        "    # Interpretation\n",
        "    alpha = 0.05\n",
        "    if p_value < alpha:\n",
        "        print(\"Reject the null hypothesis: There is a significant gender-based salary gap.\")\n",
        "    else:\n",
        "        print(\"Fail to reject the null hypothesis: No significant gender-based salary gap.\")\n",
        "\n",
        "# Generate synthetic salary data\n",
        "np.random.seed(0)  # For reproducibility\n",
        "male_salaries = np.random.normal(loc=50000, scale=10000, size=20)\n",
        "female_salaries = np.random.normal(loc=55000, scale=9000, size=20)\n",
        "\n",
        "# Analyze the salary gap\n",
        "analyze_salary_gap(male_salaries, female_salaries)\n"
      ],
      "metadata": {
        "colab": {
          "base_uri": "https://localhost:8080/",
          "height": 0
        },
        "id": "o-1vhzgyXQJC",
        "outputId": "5dc26859-d208-478c-cd29-dc63ab229066"
      },
      "execution_count": 35,
      "outputs": [
        {
          "output_type": "stream",
          "name": "stdout",
          "text": [
            "T-statistic: 0.06114208969631383\n",
            "P-value: 0.9515665020676465\n",
            "Fail to reject the null hypothesis: No significant gender-based salary gap.\n"
          ]
        }
      ]
    },
    {
      "cell_type": "code",
      "source": [
        "# 19: A manufacturer produces two different versions of a product and wants to compare their quality scores.\n",
        "# Create a Python function to analyze quality assessment data, calculate the t-statistic, and decide\n",
        "# whether there's a significant difference in quality between the two versions.\n",
        " # Use the following data:\n",
        " #```python\n",
        "# version1_scores = [85, 88, 82, 89, 87, 84, 90, 88, 85, 86, 91, 83, 87, 84, 89, 86, 84, 88, 85, 86, 89, 90, 87, 88, 85]\n",
        "# version2_scores = [80, 78, 83, 81, 79, 82, 76, 80, 78, 81, 77, 82, 80, 79, 82, 79, 80, 81, 79, 82, 79, 78, 80, 81, 82]\n",
        "\n",
        "\n",
        "import numpy as np\n",
        "from scipy import stats\n",
        "\n",
        "def analyze_quality_scores(version1_scores, version2_scores):\n",
        "    # Convert data to numpy arrays\n",
        "    version1 = np.array(version1_scores)\n",
        "    version2 = np.array(version2_scores)\n",
        "\n",
        "    # Perform independent two-sample t-test\n",
        "    t_stat, p_value = stats.ttest_ind(version1, version2)\n",
        "\n",
        "    # Print results\n",
        "    print(f\"T-statistic: {t_stat:.4f}\")\n",
        "    print(f\"P-value: {p_value:.4f}\")\n",
        "\n",
        "    # Interpretation\n",
        "    alpha = 0.05\n",
        "    if p_value < alpha:\n",
        "        print(\"Reject the null hypothesis: There is a significant difference in quality between the two versions.\")\n",
        "    else:\n",
        "        print(\"Fail to reject the null hypothesis: No significant difference in quality between the two versions.\")\n",
        "\n",
        "# Quality assessment data\n",
        "version1_scores = [85, 88, 82, 89, 87, 84, 90, 88, 85, 86, 91, 83, 87, 84, 89, 86, 84, 88, 85, 86, 89, 90, 87, 88, 85]\n",
        "version2_scores = [80, 78, 83, 81, 79, 82, 76, 80, 78, 81, 77, 82, 80, 79, 82, 79, 80, 81, 79, 82, 79, 78, 80, 81, 82]\n",
        "\n",
        "# Analyze the quality scores\n",
        "analyze_quality_scores(version1_scores, version2_scores)\n"
      ],
      "metadata": {
        "colab": {
          "base_uri": "https://localhost:8080/",
          "height": 0
        },
        "id": "rI4GQnUEYHoZ",
        "outputId": "9bf42a46-e6e0-4b20-efdd-4dbc116be851"
      },
      "execution_count": 36,
      "outputs": [
        {
          "output_type": "stream",
          "name": "stdout",
          "text": [
            "T-statistic: 11.3258\n",
            "P-value: 0.0000\n",
            "Reject the null hypothesis: There is a significant difference in quality between the two versions.\n"
          ]
        }
      ]
    },
    {
      "cell_type": "code",
      "source": [
        "# 20. A restaurant chain collects customer satisfaction scores for two different branches. Write a program to\n",
        "# analyze the scores, calculate the t-statistic, and determine if there's a statistically significant difference in\n",
        "# customer satisfaction between the branches.\n",
        "# Use the below data of scores:\n",
        "# ```python\n",
        "# branch_a_scores = [4, 5, 3, 4, 5, 4, 5, 3, 4, 4, 5, 4, 4, 3, 4, 5, 5, 4, 3, 4, 5, 4, 3, 5, 4, 4, 5, 3, 4, 5, 4]\n",
        "# branch_b_scores = [3, 4, 2, 3, 4, 3, 4, 2, 3, 3, 4, 3, 3, 2, 3, 4, 4, 3, 2, 3, 4, 3, 2, 4, 3, 3, 4, 2, 3, 4, 3]\n",
        "\n",
        "import numpy as np\n",
        "from scipy import stats\n",
        "\n",
        "def analyze_satisfaction_scores(branch_a_scores, branch_b_scores):\n",
        "    # Convert data to numpy arrays\n",
        "    branch_a = np.array(branch_a_scores)\n",
        "    branch_b = np.array(branch_b_scores)\n",
        "\n",
        "    # Perform independent two-sample t-test\n",
        "    t_stat, p_value = stats.ttest_ind(branch_a, branch_b)\n",
        "\n",
        "    # Print results\n",
        "    print(f\"T-statistic: {t_stat:.4f}\")\n",
        "    print(f\"P-value: {p_value:.4f}\")\n",
        "\n",
        "    # Interpretation\n",
        "    alpha = 0.05\n",
        "    if p_value < alpha:\n",
        "        print(\"Reject the null hypothesis: There is a significant difference in customer satisfaction between the two branches.\")\n",
        "    else:\n",
        "        print(\"Fail to reject the null hypothesis: No significant difference in customer satisfaction between the two branches.\")\n",
        "\n",
        "# Customer satisfaction scores\n",
        "branch_a_scores = [4, 5, 3, 4, 5, 4, 5, 3, 4, 4, 5, 4, 4, 3, 4, 5, 5, 4, 3, 4, 5, 4, 3, 5, 4, 4, 5, 3, 4, 5, 4]\n",
        "branch_b_scores = [3, 4, 2, 3, 4, 3, 4, 2, 3, 3, 4, 3, 3, 2, 3, 4, 4, 3, 2, 3, 4, 3, 2, 4, 3, 3, 4, 2, 3, 4, 3]\n",
        "\n",
        "# Analyze the satisfaction scores\n",
        "analyze_satisfaction_scores(branch_a_scores, branch_b_scores)\n"
      ],
      "metadata": {
        "colab": {
          "base_uri": "https://localhost:8080/",
          "height": 0
        },
        "id": "2PiKqZt_YV0j",
        "outputId": "6416bcdd-3060-4e3a-a3dc-3c2ce7277f72"
      },
      "execution_count": 37,
      "outputs": [
        {
          "output_type": "stream",
          "name": "stdout",
          "text": [
            "T-statistic: 5.4801\n",
            "P-value: 0.0000\n",
            "Reject the null hypothesis: There is a significant difference in customer satisfaction between the two branches.\n"
          ]
        }
      ]
    },
    {
      "cell_type": "code",
      "source": [
        "# 21: A political analyst wants to determine if there is a significant association between age groups and voter\n",
        "# preferences (Candidate A or Candidate B). They collect data from a sample of 500 voters and classify\n",
        "# them into different age groups and candidate preferences. Perform a Chi-Square test to determine if\n",
        "# there is a significant association between age groups and voter preferences.\n",
        "# Use the below code to generate data:\n",
        "# ```python\n",
        "# np.random.seed(0)\n",
        "# age_groups = np.random.choice(['18-30', '31-50', '51+', '51+'], size=30)\n",
        "# voter_preferences = np.random.choice(['Candidate A', 'Candidate B'], size=30)\n",
        "\n",
        "import numpy as np\n",
        "import pandas as pd\n",
        "from scipy import stats\n",
        "\n",
        "# Generate data\n",
        "np.random.seed(0)\n",
        "age_groups = np.random.choice(['18-30', '31-50', '51+', '51+'], size=500)\n",
        "voter_preferences = np.random.choice(['Candidate A', 'Candidate B'], size=500)\n",
        "\n",
        "# Create a DataFrame for better manipulation\n",
        "data = pd.DataFrame({\n",
        "    'Age Group': age_groups,\n",
        "    'Voter Preference': voter_preferences\n",
        "})\n",
        "\n",
        "# Create a contingency table\n",
        "contingency_table = pd.crosstab(data['Age Group'], data['Voter Preference'])\n",
        "\n",
        "# Perform the Chi-Square test\n",
        "chi2_stat, p_value, dof, expected = stats.chi2_contingency(contingency_table)\n",
        "\n",
        "# Print results\n",
        "print(\"Contingency Table:\")\n",
        "print(contingency_table)\n",
        "print(\"\\nChi-Square Statistic:\", chi2_stat)\n",
        "print(\"Degrees of Freedom:\", dof)\n",
        "print(\"P-Value:\", p_value)\n",
        "print(\"\\nExpected Frequencies:\")\n",
        "print(expected)\n",
        "\n",
        "# Interpretation\n",
        "alpha = 0.05\n",
        "if p_value < alpha:\n",
        "    print(\"\\nReject the null hypothesis: There is a significant association between age groups and voter preferences.\")\n",
        "else:\n",
        "    print(\"\\nFail to reject the null hypothesis: No significant association between age groups and voter preferences.\")\n"
      ],
      "metadata": {
        "colab": {
          "base_uri": "https://localhost:8080/",
          "height": 0
        },
        "id": "ez0HOnCeYm9X",
        "outputId": "d714718a-09d8-482d-a909-59104ea82376"
      },
      "execution_count": 38,
      "outputs": [
        {
          "output_type": "stream",
          "name": "stdout",
          "text": [
            "Contingency Table:\n",
            "Voter Preference  Candidate A  Candidate B\n",
            "Age Group                                 \n",
            "18-30                      68           59\n",
            "31-50                      59           63\n",
            "51+                       131          120\n",
            "\n",
            "Chi-Square Statistic: 0.7397720563072268\n",
            "Degrees of Freedom: 2\n",
            "P-Value: 0.6908130593907253\n",
            "\n",
            "Expected Frequencies:\n",
            "[[ 65.532  61.468]\n",
            " [ 62.952  59.048]\n",
            " [129.516 121.484]]\n",
            "\n",
            "Fail to reject the null hypothesis: No significant association between age groups and voter preferences.\n"
          ]
        }
      ]
    },
    {
      "cell_type": "code",
      "source": [
        "# 22. A company conducted a customer satisfaction survey to determine if there is a significant relationship\n",
        "# between product satisfaction levels (Satisfied, Neutral, Dissatisfied) and the region where customers are\n",
        "# located (East, West, North, South). The survey data is summarized in a contingency table. Conduct a Chi\n",
        "# Square test to determine if there is a significant relationship between product satisfaction levels and\n",
        "# customer regions.\n",
        "# Sample data:\n",
        "# ```python\n",
        "# ```\n",
        " #Sample data: Product satisfaction levels (rows) vs. Customer regions (columns)\n",
        " # data = np.array([[50, 30, 40, 20], [30, 40, 30, 50], [20, 30, 40, 30]])\n",
        "\n",
        "\n",
        "import numpy as np\n",
        "from scipy import stats\n",
        "\n",
        "# Sample data: Product satisfaction levels (rows) vs. Customer regions (columns)\n",
        "data = np.array([[50, 30, 40, 20],\n",
        "                 [30, 40, 30, 50],\n",
        "                 [20, 30, 40, 30]])\n",
        "\n",
        "# Perform the Chi-Square test\n",
        "chi2_stat, p_value, dof, expected = stats.chi2_contingency(data)\n",
        "\n",
        "# Print results\n",
        "print(\"Contingency Table:\")\n",
        "print(data)\n",
        "print(\"\\nChi-Square Statistic:\", chi2_stat)\n",
        "print(\"Degrees of Freedom:\", dof)\n",
        "print(\"P-Value:\", p_value)\n",
        "print(\"\\nExpected Frequencies:\")\n",
        "print(expected)\n",
        "\n",
        "# Interpretation\n",
        "alpha = 0.05\n",
        "if p_value < alpha:\n",
        "    print(\"\\nReject the null hypothesis: There is a significant relationship between product satisfaction levels and customer regions.\")\n",
        "else:\n",
        "    print(\"\\nFail to reject the null hypothesis: No significant relationship between product satisfaction levels and customer regions.\")\n"
      ],
      "metadata": {
        "colab": {
          "base_uri": "https://localhost:8080/",
          "height": 0
        },
        "id": "85VarjiaY4zO",
        "outputId": "35e14fd8-35b0-4f6f-e9c6-c5c5b4181ea7"
      },
      "execution_count": 39,
      "outputs": [
        {
          "output_type": "stream",
          "name": "stdout",
          "text": [
            "Contingency Table:\n",
            "[[50 30 40 20]\n",
            " [30 40 30 50]\n",
            " [20 30 40 30]]\n",
            "\n",
            "Chi-Square Statistic: 27.777056277056275\n",
            "Degrees of Freedom: 6\n",
            "P-Value: 0.00010349448486004387\n",
            "\n",
            "Expected Frequencies:\n",
            "[[34.14634146 34.14634146 37.56097561 34.14634146]\n",
            " [36.58536585 36.58536585 40.24390244 36.58536585]\n",
            " [29.26829268 29.26829268 32.19512195 29.26829268]]\n",
            "\n",
            "Reject the null hypothesis: There is a significant relationship between product satisfaction levels and customer regions.\n"
          ]
        }
      ]
    },
    {
      "cell_type": "code",
      "source": [
        "#  23. A company implemented an employee training program to improve job performance (Effective, Neutral,\n",
        "# Ineffective). After the training, they collected data from a sample of employees and classified them based\n",
        "# on their job performance before and after the training. Perform a Chi-Square test to determine if there is a\n",
        "# significant difference between job performance levels before and after the training.\n",
        "# Sample data:\n",
        "# ```python\n",
        "# data = np.array([[50, 30, 20], [30, 40, 30], [20, 30, 40]])\n",
        "\n",
        "import numpy as np\n",
        "from scipy import stats\n",
        "\n",
        "# Sample data: Job performance levels before and after training\n",
        "data = np.array([[50, 30, 20],  # Performance before training\n",
        "                 [30, 40, 30],  # Performance after training\n",
        "                 [20, 30, 40]]) # Performance after training\n",
        "\n",
        "# Perform the Chi-Square test\n",
        "chi2_stat, p_value, dof, expected = stats.chi2_contingency(data)\n",
        "\n",
        "# Print results\n",
        "print(\"Contingency Table:\")\n",
        "print(data)\n",
        "print(\"\\nChi-Square Statistic:\", chi2_stat)\n",
        "print(\"Degrees of Freedom:\", dof)\n",
        "print(\"P-Value:\", p_value)\n",
        "print(\"\\nExpected Frequencies:\")\n",
        "print(expected)\n",
        "\n",
        "# Interpretation\n",
        "alpha = 0.05\n",
        "if p_value < alpha:\n",
        "    print(\"\\nReject the null hypothesis: There is a significant difference in job performance levels before and after the training.\")\n",
        "else:\n",
        "    print(\"\\nFail to reject the null hypothesis: No significant difference in job performance levels before and after the training.\")\n"
      ],
      "metadata": {
        "colab": {
          "base_uri": "https://localhost:8080/",
          "height": 0
        },
        "id": "VuPtNEsaZKqf",
        "outputId": "170b21f1-16aa-42c4-dfe8-366f50ef30e3"
      },
      "execution_count": 40,
      "outputs": [
        {
          "output_type": "stream",
          "name": "stdout",
          "text": [
            "Contingency Table:\n",
            "[[50 30 20]\n",
            " [30 40 30]\n",
            " [20 30 40]]\n",
            "\n",
            "Chi-Square Statistic: 22.161728395061726\n",
            "Degrees of Freedom: 4\n",
            "P-Value: 0.00018609719479882557\n",
            "\n",
            "Expected Frequencies:\n",
            "[[34.48275862 34.48275862 31.03448276]\n",
            " [34.48275862 34.48275862 31.03448276]\n",
            " [31.03448276 31.03448276 27.93103448]]\n",
            "\n",
            "Reject the null hypothesis: There is a significant difference in job performance levels before and after the training.\n"
          ]
        }
      ]
    },
    {
      "cell_type": "code",
      "source": [
        "#  24. A company produces three different versions of a product: Standard, Premium, and Deluxe. The\n",
        "# company wants to determine if there is a significant difference in customer satisfaction scores among the\n",
        "# three product versions. They conducted a survey and collected customer satisfaction scores for each\n",
        "# version from a random sample of customers. Perform an ANOVA test to determine if there is a significant\n",
        "# difference in customer satisfaction scores.\n",
        "# Use the following data:\n",
        "# ```python\n",
        " # Sample data: Customer satisfaction scores for each product version\n",
        "# standard_scores = [80, 85, 90, 78, 88, 82, 92, 78, 85, 87]\n",
        "# ```\n",
        "\n",
        "import numpy as np\n",
        "from scipy import stats\n",
        "\n",
        "# Sample data: Customer satisfaction scores for each product version\n",
        "standard_scores = [80, 85, 90, 78, 88, 82, 92, 78, 85, 87]\n",
        "premium_scores = [85, 87, 90, 83, 89, 91, 84, 88, 86, 92]\n",
        "deluxe_scores = [88, 90, 92, 87, 91, 89, 93, 86, 94, 90]\n",
        "\n",
        "# Perform the ANOVA test\n",
        "f_statistic, p_value = stats.f_oneway(standard_scores, premium_scores, deluxe_scores)\n",
        "\n",
        "# Print results\n",
        "print(\"ANOVA Test Results:\")\n",
        "print(\"F-Statistic:\", f_statistic)\n",
        "print(\"P-Value:\", p_value)\n",
        "\n",
        "# Interpretation\n",
        "alpha = 0.05\n",
        "if p_value < alpha:\n",
        "    print(\"\\nReject the null hypothesis: There is a significant difference in customer satisfaction scores among the product versions.\")\n",
        "else:\n",
        "    print(\"\\nFail to reject the null hypothesis: No significant difference in customer satisfaction scores among the product versions.\")\n"
      ],
      "metadata": {
        "colab": {
          "base_uri": "https://localhost:8080/",
          "height": 0
        },
        "id": "H6yU03ZDZecN",
        "outputId": "a643c320-a836-437d-a028-a9f69bcc9a2e"
      },
      "execution_count": 41,
      "outputs": [
        {
          "output_type": "stream",
          "name": "stdout",
          "text": [
            "ANOVA Test Results:\n",
            "F-Statistic: 5.703342618384402\n",
            "P-Value: 0.00858852655947227\n",
            "\n",
            "Reject the null hypothesis: There is a significant difference in customer satisfaction scores among the product versions.\n"
          ]
        }
      ]
    }
  ]
}